{
 "cells": [
  {
   "cell_type": "markdown",
   "id": "d9ad6430",
   "metadata": {},
   "source": [
    "##  Finding Outliers\n"
   ]
  },
  {
   "cell_type": "code",
   "execution_count": 2,
   "id": "f6e31b6f",
   "metadata": {},
   "outputs": [],
   "source": [
    "import numpy as np\n",
    "import matplotlib.pyplot as plt\n",
    "%matplotlib inline"
   ]
  },
  {
   "cell_type": "code",
   "execution_count": 5,
   "id": "a5b4cac1",
   "metadata": {},
   "outputs": [
    {
     "name": "stdout",
     "output_type": "stream",
     "text": [
      "None\n"
     ]
    }
   ],
   "source": [
    "##Genearrte a dataset\n",
    "\n",
    "# Set a seed for reproducibility\n",
    "np.random.seed(42)\n",
    "\n",
    "# Generate a dataset of 95 normal values\n",
    "normal_data = np.random.normal(loc=50, scale=10, size=95)\n",
    "\n",
    "# Introduce 5 outliers\n",
    "outliers = np.random.uniform(low=5, high=95, size=5)\n",
    "\n",
    "# Combine normal data and outliers\n",
    "dataset_with_outliers = np.concatenate([normal_data, outliers])\n",
    "\n",
    "# Shuffle the dataset\n",
    "dataset =  np.random.shuffle(dataset_with_outliers)\n",
    "\n",
    "# Print the dataset\n",
    "print(dataset_with_outliers)\n"
   ]
  },
  {
   "cell_type": "code",
   "execution_count": 8,
   "id": "1810a890",
   "metadata": {},
   "outputs": [],
   "source": [
    "# z_score computation\n",
    "\n",
    "outliers = []\n",
    "\n",
    "def detect_outliers(data):\n",
    "    threshold = 3\n",
    "    mean = np.mean(data)\n",
    "    std = np.std(data)\n",
    "    \n",
    "    for i in data:\n",
    "        z_score = (i - mean)/std\n",
    "        if np.abs(z_score) > threshold:\n",
    "            outliers.append(i)\n",
    "            \n",
    "    return outliers;\n"
   ]
  },
  {
   "cell_type": "code",
   "execution_count": 9,
   "id": "185452bd",
   "metadata": {},
   "outputs": [
    {
     "data": {
      "text/plain": [
       "[5.6256917478071635, 82.46575249307091]"
      ]
     },
     "execution_count": 9,
     "metadata": {},
     "output_type": "execute_result"
    }
   ],
   "source": [
    "detect_outliers(dataset_with_outliers)"
   ]
  },
  {
   "cell_type": "markdown",
   "id": "03810334",
   "metadata": {},
   "source": [
    "## IQR Computation"
   ]
  },
  {
   "cell_type": "raw",
   "id": "c5e8847e",
   "metadata": {},
   "source": [
    "# rule\n",
    "1.sort the data\n",
    "2.calculate Q1 annd Q3\n",
    "3.FFind IQR (Q3 - Q1)\n",
    "4.Find thhe Lower fence(Q1 - 1.5(IQR))\n",
    "5.Find the upper fence (Q3 + 1.5(IQR))"
   ]
  },
  {
   "cell_type": "code",
   "execution_count": 12,
   "id": "13f3043e",
   "metadata": {},
   "outputs": [
    {
     "data": {
      "text/plain": [
       "[5.6256917478071635,\n",
       " 23.802548959102555,\n",
       " 30.124310853991073,\n",
       " 30.403298761202244,\n",
       " 30.86719755342202,\n",
       " 32.36959844637266,\n",
       " 32.75082167486967,\n",
       " 35.214780096325725,\n",
       " 35.75251813786544,\n",
       " 35.87696298664709,\n",
       " 36.71813951101569,\n",
       " 37.791563500289776,\n",
       " 38.037933759193294,\n",
       " 38.490064225776976,\n",
       " 38.93665025993972,\n",
       " 39.422890710440996,\n",
       " 39.87168879665576,\n",
       " 40.91975924478789,\n",
       " 41.607824767773614,\n",
       " 41.91506397106812,\n",
       " 42.56699028339011,\n",
       " 42.801557916052914,\n",
       " 42.979469061226474,\n",
       " 43.23077999694041,\n",
       " 43.54880245394876,\n",
       " 43.98293387770603,\n",
       " 43.99361310081195,\n",
       " 44.37712470759027,\n",
       " 44.556172754748175,\n",
       " 44.70239796232961,\n",
       " 44.81729781726352,\n",
       " 44.982429564154636,\n",
       " 45.2082576215471,\n",
       " 45.30525614065048,\n",
       " 45.34270246429743,\n",
       " 45.365823071875376,\n",
       " 45.393612290402125,\n",
       " 46.078918468678424,\n",
       " 46.149177195836835,\n",
       " 46.723378534022316,\n",
       " 46.907876241487855,\n",
       " 46.98896304410711,\n",
       " 47.009926495341325,\n",
       " 47.083062502067236,\n",
       " 47.658466252766644,\n",
       " 47.6586304305082,\n",
       " 47.74223699513465,\n",
       " 47.80328112162488,\n",
       " 48.14341023336183,\n",
       " 48.61735698828815,\n",
       " 48.843517176117594,\n",
       " 49.27989878419666,\n",
       " 49.64173960890049,\n",
       " 49.86502775262066,\n",
       " 50.67528204687924,\n",
       " 50.870470682381715,\n",
       " 50.91760776535502,\n",
       " 50.967257231980916,\n",
       " 50.9707754934804,\n",
       " 51.10922589709866,\n",
       " 51.7136828118997,\n",
       " 51.96861235869123,\n",
       " 52.08863595004755,\n",
       " 52.41962271566034,\n",
       " 53.142473325952736,\n",
       " 53.24083969394795,\n",
       " 53.287511096596845,\n",
       " 53.31263431403564,\n",
       " 53.43618289568462,\n",
       " 53.57112571511746,\n",
       " 53.61395605508414,\n",
       " 53.61636025047634,\n",
       " 53.75698018345672,\n",
       " 54.96714153011233,\n",
       " 55.13267433113356,\n",
       " 55.42560043585965,\n",
       " 56.11676288840868,\n",
       " 56.47688538100692,\n",
       " 57.38466579995411,\n",
       " 57.67434729152909,\n",
       " 58.125258223941984,\n",
       " 58.21902504375224,\n",
       " 58.225449121031886,\n",
       " 59.15402117702074,\n",
       " 59.31280119116199,\n",
       " 59.68644990532889,\n",
       " 59.75545127122359,\n",
       " 60.03532897892024,\n",
       " 60.30999522495951,\n",
       " 60.57122226218915,\n",
       " 63.56240028570823,\n",
       " 64.65648768921554,\n",
       " 64.77894044741517,\n",
       " 65.23029856408026,\n",
       " 65.38036566465969,\n",
       " 65.64643655814007,\n",
       " 65.79212815507391,\n",
       " 68.52278184508938,\n",
       " 78.62132893302439,\n",
       " 82.46575249307091]"
      ]
     },
     "execution_count": 12,
     "metadata": {},
     "output_type": "execute_result"
    }
   ],
   "source": [
    "dataset = sorted(dataset_with_outliers)\n",
    "dataset"
   ]
  },
  {
   "cell_type": "code",
   "execution_count": 13,
   "id": "e6936aa5",
   "metadata": {},
   "outputs": [],
   "source": [
    "q1, q3 = np.percentile(dataset,[25,75])\n"
   ]
  },
  {
   "cell_type": "code",
   "execution_count": 14,
   "id": "08f8f6cd",
   "metadata": {},
   "outputs": [
    {
     "name": "stdout",
     "output_type": "stream",
     "text": [
      "43.874401021766715 55.20590585731508\n"
     ]
    }
   ],
   "source": [
    "print(q1,q3)"
   ]
  },
  {
   "cell_type": "code",
   "execution_count": 15,
   "id": "24d7c22e",
   "metadata": {},
   "outputs": [],
   "source": [
    "iqr = q3 - q1"
   ]
  },
  {
   "cell_type": "code",
   "execution_count": 16,
   "id": "606e7856",
   "metadata": {},
   "outputs": [
    {
     "name": "stdout",
     "output_type": "stream",
     "text": [
      "11.331504835548365\n"
     ]
    }
   ],
   "source": [
    "print(iqr)"
   ]
  },
  {
   "cell_type": "code",
   "execution_count": 17,
   "id": "66c83f2b",
   "metadata": {},
   "outputs": [],
   "source": [
    "## Find the lower and upper fence\n",
    "lower_fence = q1 - (1.5 * iqr)\n",
    "higher_fence = q3 + (11.5 * iqr)"
   ]
  },
  {
   "cell_type": "code",
   "execution_count": 18,
   "id": "3fbd06e6",
   "metadata": {},
   "outputs": [
    {
     "name": "stdout",
     "output_type": "stream",
     "text": [
      "26.877143768444167 185.5182114661213\n"
     ]
    }
   ],
   "source": [
    "print(lower_fence, higher_fence)"
   ]
  },
  {
   "cell_type": "code",
   "execution_count": 19,
   "id": "c4e77a4f",
   "metadata": {},
   "outputs": [],
   "source": [
    "import seaborn as sns"
   ]
  },
  {
   "cell_type": "code",
   "execution_count": 21,
   "id": "d7ea2cb0",
   "metadata": {},
   "outputs": [
    {
     "data": {
      "text/plain": [
       "<Axes: >"
      ]
     },
     "execution_count": 21,
     "metadata": {},
     "output_type": "execute_result"
    },
    {
     "data": {
      "image/png": "[encoded data removed]",
      "text/plain": [
       "<Figure size 640x480 with 1 Axes>"
      ]
     },
     "metadata": {},
     "output_type": "display_data"
    }
   ],
   "source": [
    "sns.boxplot(dataset)"
   ]
  },
  {
   "cell_type": "code",
   "execution_count": null,
   "id": "8e2cef16",
   "metadata": {},
   "outputs": [],
   "source": []
  }
 ],
 "metadata": {
  "kernelspec": {
   "display_name": "Python 3 (ipykernel)",
   "language": "python",
   "name": "python3"
  },
  "language_info": {
   "codemirror_mode": {
    "name": "ipython",
    "version": 3
   },
   "file_extension": ".py",
   "mimetype": "text/x-python",
   "name": "python",
   "nbconvert_exporter": "python",
   "pygments_lexer": "ipython3",
   "version": "3.11.5"
  }
 },
 "nbformat": 4,
 "nbformat_minor": 5
}
